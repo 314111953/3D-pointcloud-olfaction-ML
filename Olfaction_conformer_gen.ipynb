{
  "nbformat": 4,
  "nbformat_minor": 0,
  "metadata": {
    "colab": {
      "provenance": []
    },
    "kernelspec": {
      "name": "python3",
      "display_name": "Python 3"
    },
    "language_info": {
      "name": "python"
    }
  },
  "cells": [
    {
      "cell_type": "code",
      "execution_count": null,
      "metadata": {
        "id": "vMzQ8IfPxHS2"
      },
      "outputs": [],
      "source": [
        "from rdkit import Chem"
      ]
    },
    {
      "cell_type": "code",
      "source": [
        "from rdkit.Chem import AllChem"
      ],
      "metadata": {
        "id": "OGbefrOZxUGZ"
      },
      "execution_count": null,
      "outputs": []
    },
    {
      "cell_type": "code",
      "source": [
        "import pandas as pd"
      ],
      "metadata": {
        "id": "lqYI1aGdxvTA"
      },
      "execution_count": 3,
      "outputs": []
    },
    {
      "cell_type": "code",
      "source": [
        "from rdkit.Chem import Draw"
      ],
      "metadata": {
        "id": "hKJYkcoqx0at"
      },
      "execution_count": null,
      "outputs": []
    },
    {
      "cell_type": "code",
      "source": [
        "from rdkit.Chem.Draw import IPythonConsole"
      ],
      "metadata": {
        "id": "_UBfEgLbx7Wk"
      },
      "execution_count": null,
      "outputs": []
    },
    {
      "cell_type": "code",
      "source": [
        "df_mol=pd.read_csv(\"mol_list.csv\",header=None)"
      ],
      "metadata": {
        "id": "Zyr6K0hOyFa1"
      },
      "execution_count": null,
      "outputs": []
    },
    {
      "cell_type": "code",
      "source": [
        " mols_sf=[Chem.AddHs(Chem.MolFromSmiles(smi)) for smi in df_mol[0]]"
      ],
      "metadata": {
        "id": "KG-JoI-CyNgA"
      },
      "execution_count": null,
      "outputs": []
    },
    {
      "cell_type": "code",
      "source": [
        "c=0"
      ],
      "metadata": {
        "id": "RpuAAbY-yWom"
      },
      "execution_count": 8,
      "outputs": []
    },
    {
      "cell_type": "code",
      "source": [
        " for x in mols_sf:\n",
        "        c=c+1\n",
        "        AllChem.EmbedMultipleConfs(x, 1000)\n",
        "        pdbblock = Chem.MolToPDBBlock(x)\n",
        "        open(\"/Users/ps23abt/Documents/cnn3dolfac/{}.pdb\".format(x),'w').write(Chem.MolToPDBBlock(x, flavor=4))"
      ],
      "metadata": {
        "id": "RrCnUhF9ycaj"
      },
      "execution_count": null,
      "outputs": []
    }
  ]
}